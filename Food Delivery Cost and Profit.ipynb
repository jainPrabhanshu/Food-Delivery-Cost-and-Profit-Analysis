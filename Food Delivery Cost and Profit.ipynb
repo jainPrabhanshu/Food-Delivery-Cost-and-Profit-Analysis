{
 "cells": [
  {
   "cell_type": "code",
   "execution_count": 1,
   "id": "154dcd87-71fe-46ff-ba6a-2b1672af8fc6",
   "metadata": {},
   "outputs": [],
   "source": [
    "import numpy as np\n",
    "import pandas as pd\n",
    "from datetime import datetime\n",
    "import matplotlib.pyplot as plt"
   ]
  },
  {
   "cell_type": "code",
   "execution_count": 2,
   "id": "0a593fca-9817-48c2-8fd9-2cc3fc50e4a2",
   "metadata": {},
   "outputs": [],
   "source": [
    "food_order = pd.read_csv(\"food_orders.csv\")"
   ]
  },
  {
   "cell_type": "code",
   "execution_count": 3,
   "id": "170c1dc8-19cc-4ffb-aa4e-089e2dcced38",
   "metadata": {},
   "outputs": [
    {
     "name": "stdout",
     "output_type": "stream",
     "text": [
      "   Order ID Customer ID Restaurant ID  Order Date and Time  \\\n",
      "0         1       C8270         R2924  2024-02-01 01:11:52   \n",
      "1         2       C1860         R2054  2024-02-02 22:11:04   \n",
      "2         3       C6390         R2870  2024-01-31 05:54:35   \n",
      "3         4       C6191         R2642  2024-01-16 22:52:49   \n",
      "4         5       C6734         R2799  2024-01-29 01:19:30   \n",
      "\n",
      "  Delivery Date and Time  Order Value  Delivery Fee    Payment Method  \\\n",
      "0    2024-02-01 02:39:52         1914             0       Credit Card   \n",
      "1    2024-02-02 22:46:04          986            40    Digital Wallet   \n",
      "2    2024-01-31 06:52:35          937            30  Cash on Delivery   \n",
      "3    2024-01-16 23:38:49         1463            50  Cash on Delivery   \n",
      "4    2024-01-29 02:48:30         1992            30  Cash on Delivery   \n",
      "\n",
      "  Discounts and Offers  Commission Fee  Payment Processing Fee  \\\n",
      "0            5% on App             150                      47   \n",
      "1                  10%             198                      23   \n",
      "2         15% New User             195                      45   \n",
      "3                  NaN             146                      27   \n",
      "4         50 off Promo             130                      50   \n",
      "\n",
      "   Refunds/Chargebacks  \n",
      "0                    0  \n",
      "1                    0  \n",
      "2                    0  \n",
      "3                    0  \n",
      "4                    0  \n"
     ]
    }
   ],
   "source": [
    "print(food_order.head())"
   ]
  },
  {
   "cell_type": "code",
   "execution_count": 4,
   "id": "efd85db0-4861-4893-bb4c-6476292c2f20",
   "metadata": {},
   "outputs": [
    {
     "name": "stdout",
     "output_type": "stream",
     "text": [
      "<class 'pandas.core.frame.DataFrame'>\n",
      "RangeIndex: 1000 entries, 0 to 999\n",
      "Data columns (total 12 columns):\n",
      " #   Column                  Non-Null Count  Dtype \n",
      "---  ------                  --------------  ----- \n",
      " 0   Order ID                1000 non-null   int64 \n",
      " 1   Customer ID             1000 non-null   object\n",
      " 2   Restaurant ID           1000 non-null   object\n",
      " 3   Order Date and Time     1000 non-null   object\n",
      " 4   Delivery Date and Time  1000 non-null   object\n",
      " 5   Order Value             1000 non-null   int64 \n",
      " 6   Delivery Fee            1000 non-null   int64 \n",
      " 7   Payment Method          1000 non-null   object\n",
      " 8   Discounts and Offers    815 non-null    object\n",
      " 9   Commission Fee          1000 non-null   int64 \n",
      " 10  Payment Processing Fee  1000 non-null   int64 \n",
      " 11  Refunds/Chargebacks     1000 non-null   int64 \n",
      "dtypes: int64(6), object(6)\n",
      "memory usage: 93.9+ KB\n"
     ]
    }
   ],
   "source": [
    "food_order.info()"
   ]
  },
  {
   "cell_type": "code",
   "execution_count": 5,
   "id": "76d35531-359f-4975-b2b5-d683fd710265",
   "metadata": {},
   "outputs": [
    {
     "data": {
      "text/html": [
       "<div>\n",
       "<style scoped>\n",
       "    .dataframe tbody tr th:only-of-type {\n",
       "        vertical-align: middle;\n",
       "    }\n",
       "\n",
       "    .dataframe tbody tr th {\n",
       "        vertical-align: top;\n",
       "    }\n",
       "\n",
       "    .dataframe thead th {\n",
       "        text-align: right;\n",
       "    }\n",
       "</style>\n",
       "<table border=\"1\" class=\"dataframe\">\n",
       "  <thead>\n",
       "    <tr style=\"text-align: right;\">\n",
       "      <th></th>\n",
       "      <th>Order ID</th>\n",
       "      <th>Order Value</th>\n",
       "      <th>Delivery Fee</th>\n",
       "      <th>Commission Fee</th>\n",
       "      <th>Payment Processing Fee</th>\n",
       "      <th>Refunds/Chargebacks</th>\n",
       "    </tr>\n",
       "  </thead>\n",
       "  <tbody>\n",
       "    <tr>\n",
       "      <th>count</th>\n",
       "      <td>1000.000000</td>\n",
       "      <td>1000.000000</td>\n",
       "      <td>1000.000000</td>\n",
       "      <td>1000.00000</td>\n",
       "      <td>1000.000000</td>\n",
       "      <td>1000.000000</td>\n",
       "    </tr>\n",
       "    <tr>\n",
       "      <th>mean</th>\n",
       "      <td>500.500000</td>\n",
       "      <td>1053.969000</td>\n",
       "      <td>28.620000</td>\n",
       "      <td>126.99000</td>\n",
       "      <td>29.832000</td>\n",
       "      <td>28.300000</td>\n",
       "    </tr>\n",
       "    <tr>\n",
       "      <th>std</th>\n",
       "      <td>288.819436</td>\n",
       "      <td>530.975339</td>\n",
       "      <td>16.958278</td>\n",
       "      <td>43.06405</td>\n",
       "      <td>11.627165</td>\n",
       "      <td>49.614228</td>\n",
       "    </tr>\n",
       "    <tr>\n",
       "      <th>min</th>\n",
       "      <td>1.000000</td>\n",
       "      <td>104.000000</td>\n",
       "      <td>0.000000</td>\n",
       "      <td>50.00000</td>\n",
       "      <td>10.000000</td>\n",
       "      <td>0.000000</td>\n",
       "    </tr>\n",
       "    <tr>\n",
       "      <th>25%</th>\n",
       "      <td>250.750000</td>\n",
       "      <td>597.750000</td>\n",
       "      <td>20.000000</td>\n",
       "      <td>90.00000</td>\n",
       "      <td>20.000000</td>\n",
       "      <td>0.000000</td>\n",
       "    </tr>\n",
       "    <tr>\n",
       "      <th>50%</th>\n",
       "      <td>500.500000</td>\n",
       "      <td>1038.500000</td>\n",
       "      <td>30.000000</td>\n",
       "      <td>127.00000</td>\n",
       "      <td>30.000000</td>\n",
       "      <td>0.000000</td>\n",
       "    </tr>\n",
       "    <tr>\n",
       "      <th>75%</th>\n",
       "      <td>750.250000</td>\n",
       "      <td>1494.000000</td>\n",
       "      <td>40.000000</td>\n",
       "      <td>164.00000</td>\n",
       "      <td>40.000000</td>\n",
       "      <td>50.000000</td>\n",
       "    </tr>\n",
       "    <tr>\n",
       "      <th>max</th>\n",
       "      <td>1000.000000</td>\n",
       "      <td>1995.000000</td>\n",
       "      <td>50.000000</td>\n",
       "      <td>200.00000</td>\n",
       "      <td>50.000000</td>\n",
       "      <td>150.000000</td>\n",
       "    </tr>\n",
       "  </tbody>\n",
       "</table>\n",
       "</div>"
      ],
      "text/plain": [
       "          Order ID  Order Value  Delivery Fee  Commission Fee  \\\n",
       "count  1000.000000  1000.000000   1000.000000      1000.00000   \n",
       "mean    500.500000  1053.969000     28.620000       126.99000   \n",
       "std     288.819436   530.975339     16.958278        43.06405   \n",
       "min       1.000000   104.000000      0.000000        50.00000   \n",
       "25%     250.750000   597.750000     20.000000        90.00000   \n",
       "50%     500.500000  1038.500000     30.000000       127.00000   \n",
       "75%     750.250000  1494.000000     40.000000       164.00000   \n",
       "max    1000.000000  1995.000000     50.000000       200.00000   \n",
       "\n",
       "       Payment Processing Fee  Refunds/Chargebacks  \n",
       "count             1000.000000          1000.000000  \n",
       "mean                29.832000            28.300000  \n",
       "std                 11.627165            49.614228  \n",
       "min                 10.000000             0.000000  \n",
       "25%                 20.000000             0.000000  \n",
       "50%                 30.000000             0.000000  \n",
       "75%                 40.000000            50.000000  \n",
       "max                 50.000000           150.000000  "
      ]
     },
     "execution_count": 5,
     "metadata": {},
     "output_type": "execute_result"
    }
   ],
   "source": [
    "food_order.describe()"
   ]
  },
  {
   "cell_type": "code",
   "execution_count": 6,
   "id": "dcf70d39-46dc-4bf1-8ba2-563d886aea0d",
   "metadata": {},
   "outputs": [],
   "source": [
    "food_order['Order Date and Time']  = pd.to_datetime(food_order['Order Date and Time'])\n",
    "food_order['Delivery Date and Time'] = pd.to_datetime(food_order['Delivery Date and Time'])"
   ]
  },
  {
   "cell_type": "code",
   "execution_count": 7,
   "id": "86ae1bc2",
   "metadata": {},
   "outputs": [
    {
     "name": "stdout",
     "output_type": "stream",
     "text": [
      "   Order Value Discounts and Offers  Discount Percentage  Discount Amount\n",
      "0         1914            5% on App                  5.0            95.70\n",
      "1          986                  10%                 10.0            98.60\n",
      "2          937         15% New User                 15.0           140.55\n",
      "3         1463                  NaN                  NaN              NaN\n",
      "4         1992         50 off Promo                 50.0           996.00 Order ID                           int64\n",
      "Customer ID                       object\n",
      "Restaurant ID                     object\n",
      "Order Date and Time       datetime64[ns]\n",
      "Delivery Date and Time    datetime64[ns]\n",
      "Order Value                        int64\n",
      "Delivery Fee                       int64\n",
      "Payment Method                    object\n",
      "Discounts and Offers              object\n",
      "Commission Fee                     int64\n",
      "Payment Processing Fee             int64\n",
      "Refunds/Chargebacks                int64\n",
      "Discount Percentage              float64\n",
      "Discount Amount                  float64\n",
      "dtype: object\n"
     ]
    }
   ],
   "source": [
    "def extract_discount(discount_str) :\n",
    "    if isinstance(discount_str,float):\n",
    "        return float(discount_str)\n",
    "    elif 'off' in discount_str:\n",
    "        return float(discount_str.split(' ')[0])\n",
    "    elif '%' in discount_str:\n",
    "        return float(discount_str.split('%')[0])\n",
    "    else:\n",
    "        return 0.0\n",
    "\n",
    "food_order['Discount Percentage'] = food_order['Discounts and Offers'].apply(lambda x : extract_discount(x))\n",
    "\n",
    "\n",
    "food_order['Discount Amount'] = food_order.apply(lambda x: (x['Order Value'] * x['Discount Percentage'] / 100)\n",
    "                                                   if x['Discount Percentage'] > 1\n",
    "                                                   else x['Discount Percentage'], axis=1)\n",
    "\n",
    "food_order['Discount Amount'] = food_order.apply(lambda x: x['Discount Amount'] if x['Discount Percentage'] <= 1\n",
    "                                                   else x['Order Value'] * x['Discount Percentage'] / 100, axis=1)\n",
    "\n",
    "print(food_order[['Order Value','Discounts and Offers', 'Discount Percentage','Discount Amount']].head(),food_order.dtypes)"
   ]
  },
  {
   "cell_type": "code",
   "execution_count": 17,
   "id": "5b94fc05",
   "metadata": {},
   "outputs": [
    {
     "name": "stdout",
     "output_type": "stream",
     "text": [
      "Total Orders : 1000\n",
      "Total Cost : 221741.84999999998\n",
      "Total Revenue : 126990\n",
      "Total Profit : -117943.85\n"
     ]
    }
   ],
   "source": [
    "food_order['TotalCost']= food_order['Delivery Fee'] + food_order['Discount Amount'] + food_order['Payment Processing Fee']\n",
    "food_order['Revenue'] = food_order['Commission Fee']\n",
    "food_order['Profit'] = food_order['Revenue'] - food_order['TotalCost']\n",
    "\n",
    "totalOrders = food_order.shape[0]\n",
    "totalRevenue = food_order['Revenue'].sum()\n",
    "totalProfit = food_order['Profit'].sum()\n",
    "totalCost = food_order['TotalCost'].sum()\n",
    "\n",
    "metrices = {\n",
    "    'Total Orders' : totalOrders,\n",
    "    'Total Cost' : totalCost,\n",
    "    'Total Revenue' : totalRevenue,\n",
    "    'Total Profit' : totalProfit\n",
    "}\n",
    "\n",
    "for key,value in metrices.items():\n",
    "    print(f\"{key} : {value}\")"
   ]
  },
  {
   "cell_type": "code",
   "execution_count": 29,
   "id": "1eca9392",
   "metadata": {},
   "outputs": [
    {
     "data": {
      "image/png": "[encoded data removed]",
      "text/plain": [
       "<Figure size 1000x600 with 1 Axes>"
      ]
     },
     "metadata": {},
     "output_type": "display_data"
    }
   ],
   "source": [
    "plt.figure(figsize=(10,6))\n",
    "plt.hist(food_order['Profit'],bins = 60,color='cornflowerblue',edgecolor = 'black')\n",
    "plt.title('Profit Distribution per Order in food delivery')\n",
    "plt.xlabel('Profit')\n",
    "plt.ylabel('Number of Orders')\n",
    "plt.axvline(food_order['Profit'].mean(),color='crimson',linestyle = 'dashed',linewidth='1.5')\n",
    "plt.show()"
   ]
  },
  {
   "cell_type": "code",
   "execution_count": 37,
   "id": "502d1f36",
   "metadata": {},
   "outputs": [
    {
     "data": {
      "image/png": "[encoded data removed]",
      "text/plain": [
       "<Figure size 600x600 with 1 Axes>"
      ]
     },
     "metadata": {},
     "output_type": "display_data"
    }
   ],
   "source": [
    "cost_distribution = food_order[['Delivery Fee','Payment Processing Fee','Discount Amount']].sum()\n",
    "plt.figure(figsize=(6, 6))\n",
    "plt.pie(cost_distribution,labels = cost_distribution.index,autopct='%1.1f%%',startangle=140,colors=['#EC6B56','#FFC154','#47B39C'])\n",
    "plt.title(' Total Costs Distribution in Food Delivery')\n",
    "plt.show()"
   ]
  }
 ],
 "metadata": {
  "kernelspec": {
   "display_name": "Python 3",
   "language": "python",
   "name": "python3"
  },
  "language_info": {
   "codemirror_mode": {
    "name": "ipython",
    "version": 3
   },
   "file_extension": ".py",
   "mimetype": "text/x-python",
   "name": "python",
   "nbconvert_exporter": "python",
   "pygments_lexer": "ipython3",
   "version": "3.12.6"
  }
 },
 "nbformat": 4,
 "nbformat_minor": 5
}
